{
 "cells": [
  {
   "cell_type": "code",
   "execution_count": 2,
   "id": "826fb508",
   "metadata": {},
   "outputs": [],
   "source": [
    "import matplotlib.pyplot as plt #  for plotting\n",
    "import seaborn as sns # for interactive plotting with colors /used for plot interactive graph. I like it most for plot\n",
    "import numpy as np # for numerical calculation\n",
    "import pandas as pd # for data manipulation,data processing, CSV file I/O (e.g. pd.read_csv)\n",
    "from sklearn.model_selection import train_test_split # to split arrays or matrices into random train and test subsets\n",
    "from sklearn.base import BaseEstimator, TransformerMixin\n",
    "from sklearn.preprocessing import MinMaxScaler # Transform features by scaling each feature to a given range.\n",
    "from sklearn.preprocessing import LabelEncoder # Encode categorical features \n",
    "from sklearn.ensemble import RandomForestClassifier\n",
    "from sklearn.metrics import classification_report, confusion_matrix , plot_confusion_matrix\n",
    "from sklearn.compose import ColumnTransformer # Applies transformers to columns of an array or pandas DataFrame\n",
    "import pickle # Pickle is used for serializing and de-serializing a Python object structure\n",
    "import warnings\n",
    "warnings.filterwarnings(\"ignore\")\n",
    "%matplotlib inline "
   ]
  },
  {
   "cell_type": "markdown",
   "id": "57f13e87",
   "metadata": {},
   "source": [
    "### Load Dataset"
   ]
  },
  {
   "cell_type": "code",
   "execution_count": 3,
   "id": "2e692ae1",
   "metadata": {},
   "outputs": [],
   "source": [
    "data = pd.read_excel(\"final_with_updated_claim_flag_synthetic_insurance_claim_data.xlsx\")"
   ]
  },
  {
   "cell_type": "code",
   "execution_count": 4,
   "id": "84bd978b",
   "metadata": {},
   "outputs": [
    {
     "data": {
      "text/html": [
       "<div>\n",
       "<style scoped>\n",
       "    .dataframe tbody tr th:only-of-type {\n",
       "        vertical-align: middle;\n",
       "    }\n",
       "\n",
       "    .dataframe tbody tr th {\n",
       "        vertical-align: top;\n",
       "    }\n",
       "\n",
       "    .dataframe thead th {\n",
       "        text-align: right;\n",
       "    }\n",
       "</style>\n",
       "<table border=\"1\" class=\"dataframe\">\n",
       "  <thead>\n",
       "    <tr style=\"text-align: right;\">\n",
       "      <th></th>\n",
       "      <th>months_as_customer</th>\n",
       "      <th>age</th>\n",
       "      <th>policy_bind_date</th>\n",
       "      <th>time_difference</th>\n",
       "      <th>fraud_reported</th>\n",
       "      <th>claim_type</th>\n",
       "      <th>total_claim_amount</th>\n",
       "      <th>insured_sex</th>\n",
       "      <th>insured_education_level</th>\n",
       "      <th>policy_annual_premium</th>\n",
       "      <th>umbrella_limit</th>\n",
       "      <th>vehicle_claim</th>\n",
       "      <th>time_since_policy_activation</th>\n",
       "      <th>claim_frequency</th>\n",
       "      <th>claim_size_ratio</th>\n",
       "      <th>claim_type_frequency</th>\n",
       "      <th>average_claim_amount_last_12_months</th>\n",
       "      <th>claim_flag</th>\n",
       "      <th>incidentDate</th>\n",
       "    </tr>\n",
       "  </thead>\n",
       "  <tbody>\n",
       "    <tr>\n",
       "      <th>0</th>\n",
       "      <td>114</td>\n",
       "      <td>77</td>\n",
       "      <td>2016-07-30</td>\n",
       "      <td>3</td>\n",
       "      <td>yes</td>\n",
       "      <td>vehicle_claim</td>\n",
       "      <td>6282</td>\n",
       "      <td>FEMALE</td>\n",
       "      <td>PhD</td>\n",
       "      <td>2110</td>\n",
       "      <td>5896799</td>\n",
       "      <td>6623</td>\n",
       "      <td>105</td>\n",
       "      <td>0</td>\n",
       "      <td>2.977251</td>\n",
       "      <td>175</td>\n",
       "      <td>16994</td>\n",
       "      <td>0</td>\n",
       "      <td>2018-12-08</td>\n",
       "    </tr>\n",
       "    <tr>\n",
       "      <th>1</th>\n",
       "      <td>63</td>\n",
       "      <td>61</td>\n",
       "      <td>2018-02-08</td>\n",
       "      <td>59</td>\n",
       "      <td>no</td>\n",
       "      <td>property_claim</td>\n",
       "      <td>23141</td>\n",
       "      <td>MALE</td>\n",
       "      <td>High School</td>\n",
       "      <td>3988</td>\n",
       "      <td>9466685</td>\n",
       "      <td>14908</td>\n",
       "      <td>92</td>\n",
       "      <td>4</td>\n",
       "      <td>5.802658</td>\n",
       "      <td>174</td>\n",
       "      <td>16010</td>\n",
       "      <td>0</td>\n",
       "      <td>2020-12-19</td>\n",
       "    </tr>\n",
       "    <tr>\n",
       "      <th>2</th>\n",
       "      <td>104</td>\n",
       "      <td>61</td>\n",
       "      <td>2016-01-20</td>\n",
       "      <td>50</td>\n",
       "      <td>no</td>\n",
       "      <td>property_claim</td>\n",
       "      <td>19292</td>\n",
       "      <td>FEMALE</td>\n",
       "      <td>Bachelors</td>\n",
       "      <td>2954</td>\n",
       "      <td>8479816</td>\n",
       "      <td>17858</td>\n",
       "      <td>88</td>\n",
       "      <td>3</td>\n",
       "      <td>6.530806</td>\n",
       "      <td>174</td>\n",
       "      <td>11858</td>\n",
       "      <td>0</td>\n",
       "      <td>2016-05-21</td>\n",
       "    </tr>\n",
       "    <tr>\n",
       "      <th>3</th>\n",
       "      <td>26</td>\n",
       "      <td>22</td>\n",
       "      <td>2018-10-14</td>\n",
       "      <td>12</td>\n",
       "      <td>yes</td>\n",
       "      <td>injury_claim</td>\n",
       "      <td>49992</td>\n",
       "      <td>FEMALE</td>\n",
       "      <td>High School</td>\n",
       "      <td>4994</td>\n",
       "      <td>7007509</td>\n",
       "      <td>4460</td>\n",
       "      <td>59</td>\n",
       "      <td>4</td>\n",
       "      <td>10.010412</td>\n",
       "      <td>151</td>\n",
       "      <td>20620</td>\n",
       "      <td>1</td>\n",
       "      <td>2020-01-24</td>\n",
       "    </tr>\n",
       "    <tr>\n",
       "      <th>4</th>\n",
       "      <td>118</td>\n",
       "      <td>56</td>\n",
       "      <td>2015-05-09</td>\n",
       "      <td>1</td>\n",
       "      <td>yes</td>\n",
       "      <td>property_claim</td>\n",
       "      <td>36085</td>\n",
       "      <td>MALE</td>\n",
       "      <td>PhD</td>\n",
       "      <td>2446</td>\n",
       "      <td>5445818</td>\n",
       "      <td>13986</td>\n",
       "      <td>72</td>\n",
       "      <td>2</td>\n",
       "      <td>14.752657</td>\n",
       "      <td>174</td>\n",
       "      <td>11437</td>\n",
       "      <td>1</td>\n",
       "      <td>2016-04-04</td>\n",
       "    </tr>\n",
       "  </tbody>\n",
       "</table>\n",
       "</div>"
      ],
      "text/plain": [
       "   months_as_customer  age policy_bind_date  time_difference fraud_reported  \\\n",
       "0                 114   77       2016-07-30                3            yes   \n",
       "1                  63   61       2018-02-08               59             no   \n",
       "2                 104   61       2016-01-20               50             no   \n",
       "3                  26   22       2018-10-14               12            yes   \n",
       "4                 118   56       2015-05-09                1            yes   \n",
       "\n",
       "       claim_type  total_claim_amount insured_sex insured_education_level  \\\n",
       "0   vehicle_claim                6282      FEMALE                     PhD   \n",
       "1  property_claim               23141        MALE             High School   \n",
       "2  property_claim               19292      FEMALE               Bachelors   \n",
       "3    injury_claim               49992      FEMALE             High School   \n",
       "4  property_claim               36085        MALE                     PhD   \n",
       "\n",
       "   policy_annual_premium  umbrella_limit  vehicle_claim  \\\n",
       "0                   2110         5896799           6623   \n",
       "1                   3988         9466685          14908   \n",
       "2                   2954         8479816          17858   \n",
       "3                   4994         7007509           4460   \n",
       "4                   2446         5445818          13986   \n",
       "\n",
       "   time_since_policy_activation  claim_frequency  claim_size_ratio  \\\n",
       "0                           105                0          2.977251   \n",
       "1                            92                4          5.802658   \n",
       "2                            88                3          6.530806   \n",
       "3                            59                4         10.010412   \n",
       "4                            72                2         14.752657   \n",
       "\n",
       "   claim_type_frequency  average_claim_amount_last_12_months  claim_flag  \\\n",
       "0                   175                                16994           0   \n",
       "1                   174                                16010           0   \n",
       "2                   174                                11858           0   \n",
       "3                   151                                20620           1   \n",
       "4                   174                                11437           1   \n",
       "\n",
       "  incidentDate  \n",
       "0   2018-12-08  \n",
       "1   2020-12-19  \n",
       "2   2016-05-21  \n",
       "3   2020-01-24  \n",
       "4   2016-04-04  "
      ]
     },
     "execution_count": 4,
     "metadata": {},
     "output_type": "execute_result"
    }
   ],
   "source": [
    "data.head()"
   ]
  },
  {
   "cell_type": "code",
   "execution_count": 5,
   "id": "d1fdf992",
   "metadata": {},
   "outputs": [
    {
     "data": {
      "text/plain": [
       "Index(['months_as_customer', 'age', 'policy_bind_date', 'time_difference',\n",
       "       'fraud_reported', 'claim_type', 'total_claim_amount', 'insured_sex',\n",
       "       'insured_education_level', 'policy_annual_premium', 'umbrella_limit',\n",
       "       'vehicle_claim', 'time_since_policy_activation', 'claim_frequency',\n",
       "       'claim_size_ratio', 'claim_type_frequency',\n",
       "       'average_claim_amount_last_12_months', 'claim_flag', 'incidentDate'],\n",
       "      dtype='object')"
      ]
     },
     "execution_count": 5,
     "metadata": {},
     "output_type": "execute_result"
    }
   ],
   "source": [
    "data.columns"
   ]
  },
  {
   "cell_type": "markdown",
   "id": "f3050f43",
   "metadata": {},
   "source": [
    "## 2.Data Understanding"
   ]
  },
  {
   "cell_type": "code",
   "execution_count": 6,
   "id": "1c4f77e3",
   "metadata": {},
   "outputs": [
    {
     "data": {
      "text/plain": [
       "(500, 19)"
      ]
     },
     "execution_count": 6,
     "metadata": {},
     "output_type": "execute_result"
    }
   ],
   "source": [
    "#previewing the dimensions or shape (rows and columns)of the data\n",
    "\n",
    "data.shape"
   ]
  },
  {
   "cell_type": "code",
   "execution_count": 7,
   "id": "0e6597dc",
   "metadata": {},
   "outputs": [
    {
     "name": "stdout",
     "output_type": "stream",
     "text": [
      "<class 'pandas.core.frame.DataFrame'>\n",
      "RangeIndex: 500 entries, 0 to 499\n",
      "Data columns (total 19 columns):\n",
      " #   Column                               Non-Null Count  Dtype         \n",
      "---  ------                               --------------  -----         \n",
      " 0   months_as_customer                   500 non-null    int64         \n",
      " 1   age                                  500 non-null    int64         \n",
      " 2   policy_bind_date                     500 non-null    datetime64[ns]\n",
      " 3   time_difference                      500 non-null    int64         \n",
      " 4   fraud_reported                       500 non-null    object        \n",
      " 5   claim_type                           500 non-null    object        \n",
      " 6   total_claim_amount                   500 non-null    int64         \n",
      " 7   insured_sex                          500 non-null    object        \n",
      " 8   insured_education_level              500 non-null    object        \n",
      " 9   policy_annual_premium                500 non-null    int64         \n",
      " 10  umbrella_limit                       500 non-null    int64         \n",
      " 11  vehicle_claim                        500 non-null    int64         \n",
      " 12  time_since_policy_activation         500 non-null    int64         \n",
      " 13  claim_frequency                      500 non-null    int64         \n",
      " 14  claim_size_ratio                     500 non-null    float64       \n",
      " 15  claim_type_frequency                 500 non-null    int64         \n",
      " 16  average_claim_amount_last_12_months  500 non-null    int64         \n",
      " 17  claim_flag                           500 non-null    int64         \n",
      " 18  incidentDate                         500 non-null    datetime64[ns]\n",
      "dtypes: datetime64[ns](2), float64(1), int64(12), object(4)\n",
      "memory usage: 74.3+ KB\n"
     ]
    }
   ],
   "source": [
    "#previewing the information about the dataset\n",
    "\n",
    "data.info()"
   ]
  },
  {
   "cell_type": "code",
   "execution_count": 8,
   "id": "a209b192",
   "metadata": {},
   "outputs": [
    {
     "data": {
      "text/plain": [
       "0"
      ]
     },
     "execution_count": 8,
     "metadata": {},
     "output_type": "execute_result"
    }
   ],
   "source": [
    "#Checking for duplicate values\n",
    "\n",
    "data.duplicated().sum()"
   ]
  },
  {
   "cell_type": "code",
   "execution_count": 9,
   "id": "a4582463",
   "metadata": {},
   "outputs": [
    {
     "data": {
      "text/html": [
       "<div>\n",
       "<style scoped>\n",
       "    .dataframe tbody tr th:only-of-type {\n",
       "        vertical-align: middle;\n",
       "    }\n",
       "\n",
       "    .dataframe tbody tr th {\n",
       "        vertical-align: top;\n",
       "    }\n",
       "\n",
       "    .dataframe thead th {\n",
       "        text-align: right;\n",
       "    }\n",
       "</style>\n",
       "<table border=\"1\" class=\"dataframe\">\n",
       "  <thead>\n",
       "    <tr style=\"text-align: right;\">\n",
       "      <th></th>\n",
       "      <th>months_as_customer</th>\n",
       "      <th>age</th>\n",
       "      <th>policy_bind_date</th>\n",
       "      <th>time_difference</th>\n",
       "      <th>total_claim_amount</th>\n",
       "      <th>policy_annual_premium</th>\n",
       "      <th>umbrella_limit</th>\n",
       "      <th>vehicle_claim</th>\n",
       "      <th>time_since_policy_activation</th>\n",
       "      <th>claim_frequency</th>\n",
       "      <th>claim_size_ratio</th>\n",
       "      <th>claim_type_frequency</th>\n",
       "      <th>average_claim_amount_last_12_months</th>\n",
       "      <th>claim_flag</th>\n",
       "      <th>incidentDate</th>\n",
       "    </tr>\n",
       "  </thead>\n",
       "  <tbody>\n",
       "    <tr>\n",
       "      <th>count</th>\n",
       "      <td>500.000000</td>\n",
       "      <td>500.000000</td>\n",
       "      <td>500</td>\n",
       "      <td>500.000000</td>\n",
       "      <td>500.000000</td>\n",
       "      <td>500.000000</td>\n",
       "      <td>5.000000e+02</td>\n",
       "      <td>500.000000</td>\n",
       "      <td>500.000000</td>\n",
       "      <td>500.00000</td>\n",
       "      <td>500.000000</td>\n",
       "      <td>500.000000</td>\n",
       "      <td>500.000000</td>\n",
       "      <td>500.000000</td>\n",
       "      <td>500</td>\n",
       "    </tr>\n",
       "    <tr>\n",
       "      <th>mean</th>\n",
       "      <td>65.738000</td>\n",
       "      <td>49.862000</td>\n",
       "      <td>2019-05-12 03:01:26.399999744</td>\n",
       "      <td>30.140000</td>\n",
       "      <td>26244.710000</td>\n",
       "      <td>2897.656000</td>\n",
       "      <td>5.562912e+06</td>\n",
       "      <td>10258.098000</td>\n",
       "      <td>60.240000</td>\n",
       "      <td>2.22000</td>\n",
       "      <td>12.620315</td>\n",
       "      <td>167.404000</td>\n",
       "      <td>15354.868000</td>\n",
       "      <td>0.554000</td>\n",
       "      <td>2020-12-18 05:42:43.199999744</td>\n",
       "    </tr>\n",
       "    <tr>\n",
       "      <th>min</th>\n",
       "      <td>12.000000</td>\n",
       "      <td>18.000000</td>\n",
       "      <td>2013-01-15 00:00:00</td>\n",
       "      <td>1.000000</td>\n",
       "      <td>661.000000</td>\n",
       "      <td>507.000000</td>\n",
       "      <td>1.004138e+06</td>\n",
       "      <td>67.000000</td>\n",
       "      <td>1.000000</td>\n",
       "      <td>0.00000</td>\n",
       "      <td>0.148406</td>\n",
       "      <td>151.000000</td>\n",
       "      <td>514.000000</td>\n",
       "      <td>0.000000</td>\n",
       "      <td>2013-01-29 00:00:00</td>\n",
       "    </tr>\n",
       "    <tr>\n",
       "      <th>25%</th>\n",
       "      <td>38.000000</td>\n",
       "      <td>34.000000</td>\n",
       "      <td>2016-05-26 18:00:00</td>\n",
       "      <td>14.000000</td>\n",
       "      <td>14552.500000</td>\n",
       "      <td>1807.750000</td>\n",
       "      <td>3.185432e+06</td>\n",
       "      <td>4978.750000</td>\n",
       "      <td>32.000000</td>\n",
       "      <td>1.00000</td>\n",
       "      <td>5.232060</td>\n",
       "      <td>151.000000</td>\n",
       "      <td>7724.250000</td>\n",
       "      <td>0.000000</td>\n",
       "      <td>2017-11-27 00:00:00</td>\n",
       "    </tr>\n",
       "    <tr>\n",
       "      <th>50%</th>\n",
       "      <td>65.000000</td>\n",
       "      <td>50.000000</td>\n",
       "      <td>2019-10-27 00:00:00</td>\n",
       "      <td>30.000000</td>\n",
       "      <td>27093.500000</td>\n",
       "      <td>2991.500000</td>\n",
       "      <td>5.706212e+06</td>\n",
       "      <td>10863.000000</td>\n",
       "      <td>60.500000</td>\n",
       "      <td>2.00000</td>\n",
       "      <td>9.031550</td>\n",
       "      <td>174.000000</td>\n",
       "      <td>15383.000000</td>\n",
       "      <td>1.000000</td>\n",
       "      <td>2021-05-19 12:00:00</td>\n",
       "    </tr>\n",
       "    <tr>\n",
       "      <th>75%</th>\n",
       "      <td>97.000000</td>\n",
       "      <td>66.000000</td>\n",
       "      <td>2022-02-15 18:00:00</td>\n",
       "      <td>45.000000</td>\n",
       "      <td>37356.250000</td>\n",
       "      <td>4075.250000</td>\n",
       "      <td>7.688139e+06</td>\n",
       "      <td>15028.250000</td>\n",
       "      <td>89.000000</td>\n",
       "      <td>3.00000</td>\n",
       "      <td>14.396670</td>\n",
       "      <td>175.000000</td>\n",
       "      <td>22798.750000</td>\n",
       "      <td>1.000000</td>\n",
       "      <td>2023-10-17 00:00:00</td>\n",
       "    </tr>\n",
       "    <tr>\n",
       "      <th>max</th>\n",
       "      <td>120.000000</td>\n",
       "      <td>80.000000</td>\n",
       "      <td>2024-12-31 00:00:00</td>\n",
       "      <td>60.000000</td>\n",
       "      <td>49992.000000</td>\n",
       "      <td>5000.000000</td>\n",
       "      <td>9.990499e+06</td>\n",
       "      <td>19942.000000</td>\n",
       "      <td>119.000000</td>\n",
       "      <td>4.00000</td>\n",
       "      <td>79.000000</td>\n",
       "      <td>175.000000</td>\n",
       "      <td>29931.000000</td>\n",
       "      <td>1.000000</td>\n",
       "      <td>2027-12-13 00:00:00</td>\n",
       "    </tr>\n",
       "    <tr>\n",
       "      <th>std</th>\n",
       "      <td>32.035698</td>\n",
       "      <td>18.310366</td>\n",
       "      <td>NaN</td>\n",
       "      <td>17.459383</td>\n",
       "      <td>13669.237855</td>\n",
       "      <td>1274.521244</td>\n",
       "      <td>2.588252e+06</td>\n",
       "      <td>5913.965063</td>\n",
       "      <td>34.090214</td>\n",
       "      <td>1.39409</td>\n",
       "      <td>12.617154</td>\n",
       "      <td>10.808999</td>\n",
       "      <td>8602.642997</td>\n",
       "      <td>0.497573</td>\n",
       "      <td>NaN</td>\n",
       "    </tr>\n",
       "  </tbody>\n",
       "</table>\n",
       "</div>"
      ],
      "text/plain": [
       "       months_as_customer         age               policy_bind_date  \\\n",
       "count          500.000000  500.000000                            500   \n",
       "mean            65.738000   49.862000  2019-05-12 03:01:26.399999744   \n",
       "min             12.000000   18.000000            2013-01-15 00:00:00   \n",
       "25%             38.000000   34.000000            2016-05-26 18:00:00   \n",
       "50%             65.000000   50.000000            2019-10-27 00:00:00   \n",
       "75%             97.000000   66.000000            2022-02-15 18:00:00   \n",
       "max            120.000000   80.000000            2024-12-31 00:00:00   \n",
       "std             32.035698   18.310366                            NaN   \n",
       "\n",
       "       time_difference  total_claim_amount  policy_annual_premium  \\\n",
       "count       500.000000          500.000000             500.000000   \n",
       "mean         30.140000        26244.710000            2897.656000   \n",
       "min           1.000000          661.000000             507.000000   \n",
       "25%          14.000000        14552.500000            1807.750000   \n",
       "50%          30.000000        27093.500000            2991.500000   \n",
       "75%          45.000000        37356.250000            4075.250000   \n",
       "max          60.000000        49992.000000            5000.000000   \n",
       "std          17.459383        13669.237855            1274.521244   \n",
       "\n",
       "       umbrella_limit  vehicle_claim  time_since_policy_activation  \\\n",
       "count    5.000000e+02     500.000000                    500.000000   \n",
       "mean     5.562912e+06   10258.098000                     60.240000   \n",
       "min      1.004138e+06      67.000000                      1.000000   \n",
       "25%      3.185432e+06    4978.750000                     32.000000   \n",
       "50%      5.706212e+06   10863.000000                     60.500000   \n",
       "75%      7.688139e+06   15028.250000                     89.000000   \n",
       "max      9.990499e+06   19942.000000                    119.000000   \n",
       "std      2.588252e+06    5913.965063                     34.090214   \n",
       "\n",
       "       claim_frequency  claim_size_ratio  claim_type_frequency  \\\n",
       "count        500.00000        500.000000            500.000000   \n",
       "mean           2.22000         12.620315            167.404000   \n",
       "min            0.00000          0.148406            151.000000   \n",
       "25%            1.00000          5.232060            151.000000   \n",
       "50%            2.00000          9.031550            174.000000   \n",
       "75%            3.00000         14.396670            175.000000   \n",
       "max            4.00000         79.000000            175.000000   \n",
       "std            1.39409         12.617154             10.808999   \n",
       "\n",
       "       average_claim_amount_last_12_months  claim_flag  \\\n",
       "count                           500.000000  500.000000   \n",
       "mean                          15354.868000    0.554000   \n",
       "min                             514.000000    0.000000   \n",
       "25%                            7724.250000    0.000000   \n",
       "50%                           15383.000000    1.000000   \n",
       "75%                           22798.750000    1.000000   \n",
       "max                           29931.000000    1.000000   \n",
       "std                            8602.642997    0.497573   \n",
       "\n",
       "                        incidentDate  \n",
       "count                            500  \n",
       "mean   2020-12-18 05:42:43.199999744  \n",
       "min              2013-01-29 00:00:00  \n",
       "25%              2017-11-27 00:00:00  \n",
       "50%              2021-05-19 12:00:00  \n",
       "75%              2023-10-17 00:00:00  \n",
       "max              2027-12-13 00:00:00  \n",
       "std                              NaN  "
      ]
     },
     "execution_count": 9,
     "metadata": {},
     "output_type": "execute_result"
    }
   ],
   "source": [
    "#previewing the summary numerical statistics of our data\n",
    "\n",
    "data.describe()"
   ]
  },
  {
   "cell_type": "code",
   "execution_count": 10,
   "id": "557bb45c",
   "metadata": {},
   "outputs": [
    {
     "data": {
      "text/html": [
       "<div>\n",
       "<style scoped>\n",
       "    .dataframe tbody tr th:only-of-type {\n",
       "        vertical-align: middle;\n",
       "    }\n",
       "\n",
       "    .dataframe tbody tr th {\n",
       "        vertical-align: top;\n",
       "    }\n",
       "\n",
       "    .dataframe thead th {\n",
       "        text-align: right;\n",
       "    }\n",
       "</style>\n",
       "<table border=\"1\" class=\"dataframe\">\n",
       "  <thead>\n",
       "    <tr style=\"text-align: right;\">\n",
       "      <th></th>\n",
       "      <th>months_as_customer</th>\n",
       "      <th>age</th>\n",
       "      <th>policy_bind_date</th>\n",
       "      <th>time_difference</th>\n",
       "      <th>fraud_reported</th>\n",
       "      <th>claim_type</th>\n",
       "      <th>total_claim_amount</th>\n",
       "      <th>insured_sex</th>\n",
       "      <th>insured_education_level</th>\n",
       "      <th>policy_annual_premium</th>\n",
       "      <th>umbrella_limit</th>\n",
       "      <th>vehicle_claim</th>\n",
       "      <th>time_since_policy_activation</th>\n",
       "      <th>claim_frequency</th>\n",
       "      <th>claim_size_ratio</th>\n",
       "      <th>claim_type_frequency</th>\n",
       "      <th>average_claim_amount_last_12_months</th>\n",
       "      <th>claim_flag</th>\n",
       "      <th>incidentDate</th>\n",
       "    </tr>\n",
       "  </thead>\n",
       "  <tbody>\n",
       "    <tr>\n",
       "      <th>count</th>\n",
       "      <td>500.000000</td>\n",
       "      <td>500.000000</td>\n",
       "      <td>500</td>\n",
       "      <td>500.000000</td>\n",
       "      <td>500</td>\n",
       "      <td>500</td>\n",
       "      <td>500.000000</td>\n",
       "      <td>500</td>\n",
       "      <td>500</td>\n",
       "      <td>500.000000</td>\n",
       "      <td>5.000000e+02</td>\n",
       "      <td>500.000000</td>\n",
       "      <td>500.000000</td>\n",
       "      <td>500.00000</td>\n",
       "      <td>500.000000</td>\n",
       "      <td>500.000000</td>\n",
       "      <td>500.000000</td>\n",
       "      <td>500.000000</td>\n",
       "      <td>500</td>\n",
       "    </tr>\n",
       "    <tr>\n",
       "      <th>unique</th>\n",
       "      <td>NaN</td>\n",
       "      <td>NaN</td>\n",
       "      <td>NaN</td>\n",
       "      <td>NaN</td>\n",
       "      <td>2</td>\n",
       "      <td>3</td>\n",
       "      <td>NaN</td>\n",
       "      <td>2</td>\n",
       "      <td>4</td>\n",
       "      <td>NaN</td>\n",
       "      <td>NaN</td>\n",
       "      <td>NaN</td>\n",
       "      <td>NaN</td>\n",
       "      <td>NaN</td>\n",
       "      <td>NaN</td>\n",
       "      <td>NaN</td>\n",
       "      <td>NaN</td>\n",
       "      <td>NaN</td>\n",
       "      <td>NaN</td>\n",
       "    </tr>\n",
       "    <tr>\n",
       "      <th>top</th>\n",
       "      <td>NaN</td>\n",
       "      <td>NaN</td>\n",
       "      <td>NaN</td>\n",
       "      <td>NaN</td>\n",
       "      <td>yes</td>\n",
       "      <td>vehicle_claim</td>\n",
       "      <td>NaN</td>\n",
       "      <td>FEMALE</td>\n",
       "      <td>High School</td>\n",
       "      <td>NaN</td>\n",
       "      <td>NaN</td>\n",
       "      <td>NaN</td>\n",
       "      <td>NaN</td>\n",
       "      <td>NaN</td>\n",
       "      <td>NaN</td>\n",
       "      <td>NaN</td>\n",
       "      <td>NaN</td>\n",
       "      <td>NaN</td>\n",
       "      <td>NaN</td>\n",
       "    </tr>\n",
       "    <tr>\n",
       "      <th>freq</th>\n",
       "      <td>NaN</td>\n",
       "      <td>NaN</td>\n",
       "      <td>NaN</td>\n",
       "      <td>NaN</td>\n",
       "      <td>306</td>\n",
       "      <td>175</td>\n",
       "      <td>NaN</td>\n",
       "      <td>264</td>\n",
       "      <td>145</td>\n",
       "      <td>NaN</td>\n",
       "      <td>NaN</td>\n",
       "      <td>NaN</td>\n",
       "      <td>NaN</td>\n",
       "      <td>NaN</td>\n",
       "      <td>NaN</td>\n",
       "      <td>NaN</td>\n",
       "      <td>NaN</td>\n",
       "      <td>NaN</td>\n",
       "      <td>NaN</td>\n",
       "    </tr>\n",
       "    <tr>\n",
       "      <th>mean</th>\n",
       "      <td>65.738000</td>\n",
       "      <td>49.862000</td>\n",
       "      <td>2019-05-12 03:01:26.399999744</td>\n",
       "      <td>30.140000</td>\n",
       "      <td>NaN</td>\n",
       "      <td>NaN</td>\n",
       "      <td>26244.710000</td>\n",
       "      <td>NaN</td>\n",
       "      <td>NaN</td>\n",
       "      <td>2897.656000</td>\n",
       "      <td>5.562912e+06</td>\n",
       "      <td>10258.098000</td>\n",
       "      <td>60.240000</td>\n",
       "      <td>2.22000</td>\n",
       "      <td>12.620315</td>\n",
       "      <td>167.404000</td>\n",
       "      <td>15354.868000</td>\n",
       "      <td>0.554000</td>\n",
       "      <td>2020-12-18 05:42:43.199999744</td>\n",
       "    </tr>\n",
       "    <tr>\n",
       "      <th>min</th>\n",
       "      <td>12.000000</td>\n",
       "      <td>18.000000</td>\n",
       "      <td>2013-01-15 00:00:00</td>\n",
       "      <td>1.000000</td>\n",
       "      <td>NaN</td>\n",
       "      <td>NaN</td>\n",
       "      <td>661.000000</td>\n",
       "      <td>NaN</td>\n",
       "      <td>NaN</td>\n",
       "      <td>507.000000</td>\n",
       "      <td>1.004138e+06</td>\n",
       "      <td>67.000000</td>\n",
       "      <td>1.000000</td>\n",
       "      <td>0.00000</td>\n",
       "      <td>0.148406</td>\n",
       "      <td>151.000000</td>\n",
       "      <td>514.000000</td>\n",
       "      <td>0.000000</td>\n",
       "      <td>2013-01-29 00:00:00</td>\n",
       "    </tr>\n",
       "    <tr>\n",
       "      <th>25%</th>\n",
       "      <td>38.000000</td>\n",
       "      <td>34.000000</td>\n",
       "      <td>2016-05-26 18:00:00</td>\n",
       "      <td>14.000000</td>\n",
       "      <td>NaN</td>\n",
       "      <td>NaN</td>\n",
       "      <td>14552.500000</td>\n",
       "      <td>NaN</td>\n",
       "      <td>NaN</td>\n",
       "      <td>1807.750000</td>\n",
       "      <td>3.185432e+06</td>\n",
       "      <td>4978.750000</td>\n",
       "      <td>32.000000</td>\n",
       "      <td>1.00000</td>\n",
       "      <td>5.232060</td>\n",
       "      <td>151.000000</td>\n",
       "      <td>7724.250000</td>\n",
       "      <td>0.000000</td>\n",
       "      <td>2017-11-27 00:00:00</td>\n",
       "    </tr>\n",
       "    <tr>\n",
       "      <th>50%</th>\n",
       "      <td>65.000000</td>\n",
       "      <td>50.000000</td>\n",
       "      <td>2019-10-27 00:00:00</td>\n",
       "      <td>30.000000</td>\n",
       "      <td>NaN</td>\n",
       "      <td>NaN</td>\n",
       "      <td>27093.500000</td>\n",
       "      <td>NaN</td>\n",
       "      <td>NaN</td>\n",
       "      <td>2991.500000</td>\n",
       "      <td>5.706212e+06</td>\n",
       "      <td>10863.000000</td>\n",
       "      <td>60.500000</td>\n",
       "      <td>2.00000</td>\n",
       "      <td>9.031550</td>\n",
       "      <td>174.000000</td>\n",
       "      <td>15383.000000</td>\n",
       "      <td>1.000000</td>\n",
       "      <td>2021-05-19 12:00:00</td>\n",
       "    </tr>\n",
       "    <tr>\n",
       "      <th>75%</th>\n",
       "      <td>97.000000</td>\n",
       "      <td>66.000000</td>\n",
       "      <td>2022-02-15 18:00:00</td>\n",
       "      <td>45.000000</td>\n",
       "      <td>NaN</td>\n",
       "      <td>NaN</td>\n",
       "      <td>37356.250000</td>\n",
       "      <td>NaN</td>\n",
       "      <td>NaN</td>\n",
       "      <td>4075.250000</td>\n",
       "      <td>7.688139e+06</td>\n",
       "      <td>15028.250000</td>\n",
       "      <td>89.000000</td>\n",
       "      <td>3.00000</td>\n",
       "      <td>14.396670</td>\n",
       "      <td>175.000000</td>\n",
       "      <td>22798.750000</td>\n",
       "      <td>1.000000</td>\n",
       "      <td>2023-10-17 00:00:00</td>\n",
       "    </tr>\n",
       "    <tr>\n",
       "      <th>max</th>\n",
       "      <td>120.000000</td>\n",
       "      <td>80.000000</td>\n",
       "      <td>2024-12-31 00:00:00</td>\n",
       "      <td>60.000000</td>\n",
       "      <td>NaN</td>\n",
       "      <td>NaN</td>\n",
       "      <td>49992.000000</td>\n",
       "      <td>NaN</td>\n",
       "      <td>NaN</td>\n",
       "      <td>5000.000000</td>\n",
       "      <td>9.990499e+06</td>\n",
       "      <td>19942.000000</td>\n",
       "      <td>119.000000</td>\n",
       "      <td>4.00000</td>\n",
       "      <td>79.000000</td>\n",
       "      <td>175.000000</td>\n",
       "      <td>29931.000000</td>\n",
       "      <td>1.000000</td>\n",
       "      <td>2027-12-13 00:00:00</td>\n",
       "    </tr>\n",
       "    <tr>\n",
       "      <th>std</th>\n",
       "      <td>32.035698</td>\n",
       "      <td>18.310366</td>\n",
       "      <td>NaN</td>\n",
       "      <td>17.459383</td>\n",
       "      <td>NaN</td>\n",
       "      <td>NaN</td>\n",
       "      <td>13669.237855</td>\n",
       "      <td>NaN</td>\n",
       "      <td>NaN</td>\n",
       "      <td>1274.521244</td>\n",
       "      <td>2.588252e+06</td>\n",
       "      <td>5913.965063</td>\n",
       "      <td>34.090214</td>\n",
       "      <td>1.39409</td>\n",
       "      <td>12.617154</td>\n",
       "      <td>10.808999</td>\n",
       "      <td>8602.642997</td>\n",
       "      <td>0.497573</td>\n",
       "      <td>NaN</td>\n",
       "    </tr>\n",
       "  </tbody>\n",
       "</table>\n",
       "</div>"
      ],
      "text/plain": [
       "        months_as_customer         age               policy_bind_date  \\\n",
       "count           500.000000  500.000000                            500   \n",
       "unique                 NaN         NaN                            NaN   \n",
       "top                    NaN         NaN                            NaN   \n",
       "freq                   NaN         NaN                            NaN   \n",
       "mean             65.738000   49.862000  2019-05-12 03:01:26.399999744   \n",
       "min              12.000000   18.000000            2013-01-15 00:00:00   \n",
       "25%              38.000000   34.000000            2016-05-26 18:00:00   \n",
       "50%              65.000000   50.000000            2019-10-27 00:00:00   \n",
       "75%              97.000000   66.000000            2022-02-15 18:00:00   \n",
       "max             120.000000   80.000000            2024-12-31 00:00:00   \n",
       "std              32.035698   18.310366                            NaN   \n",
       "\n",
       "        time_difference fraud_reported     claim_type  total_claim_amount  \\\n",
       "count        500.000000            500            500          500.000000   \n",
       "unique              NaN              2              3                 NaN   \n",
       "top                 NaN            yes  vehicle_claim                 NaN   \n",
       "freq                NaN            306            175                 NaN   \n",
       "mean          30.140000            NaN            NaN        26244.710000   \n",
       "min            1.000000            NaN            NaN          661.000000   \n",
       "25%           14.000000            NaN            NaN        14552.500000   \n",
       "50%           30.000000            NaN            NaN        27093.500000   \n",
       "75%           45.000000            NaN            NaN        37356.250000   \n",
       "max           60.000000            NaN            NaN        49992.000000   \n",
       "std           17.459383            NaN            NaN        13669.237855   \n",
       "\n",
       "       insured_sex insured_education_level  policy_annual_premium  \\\n",
       "count          500                     500             500.000000   \n",
       "unique           2                       4                    NaN   \n",
       "top         FEMALE             High School                    NaN   \n",
       "freq           264                     145                    NaN   \n",
       "mean           NaN                     NaN            2897.656000   \n",
       "min            NaN                     NaN             507.000000   \n",
       "25%            NaN                     NaN            1807.750000   \n",
       "50%            NaN                     NaN            2991.500000   \n",
       "75%            NaN                     NaN            4075.250000   \n",
       "max            NaN                     NaN            5000.000000   \n",
       "std            NaN                     NaN            1274.521244   \n",
       "\n",
       "        umbrella_limit  vehicle_claim  time_since_policy_activation  \\\n",
       "count     5.000000e+02     500.000000                    500.000000   \n",
       "unique             NaN            NaN                           NaN   \n",
       "top                NaN            NaN                           NaN   \n",
       "freq               NaN            NaN                           NaN   \n",
       "mean      5.562912e+06   10258.098000                     60.240000   \n",
       "min       1.004138e+06      67.000000                      1.000000   \n",
       "25%       3.185432e+06    4978.750000                     32.000000   \n",
       "50%       5.706212e+06   10863.000000                     60.500000   \n",
       "75%       7.688139e+06   15028.250000                     89.000000   \n",
       "max       9.990499e+06   19942.000000                    119.000000   \n",
       "std       2.588252e+06    5913.965063                     34.090214   \n",
       "\n",
       "        claim_frequency  claim_size_ratio  claim_type_frequency  \\\n",
       "count         500.00000        500.000000            500.000000   \n",
       "unique              NaN               NaN                   NaN   \n",
       "top                 NaN               NaN                   NaN   \n",
       "freq                NaN               NaN                   NaN   \n",
       "mean            2.22000         12.620315            167.404000   \n",
       "min             0.00000          0.148406            151.000000   \n",
       "25%             1.00000          5.232060            151.000000   \n",
       "50%             2.00000          9.031550            174.000000   \n",
       "75%             3.00000         14.396670            175.000000   \n",
       "max             4.00000         79.000000            175.000000   \n",
       "std             1.39409         12.617154             10.808999   \n",
       "\n",
       "        average_claim_amount_last_12_months  claim_flag  \\\n",
       "count                            500.000000  500.000000   \n",
       "unique                                  NaN         NaN   \n",
       "top                                     NaN         NaN   \n",
       "freq                                    NaN         NaN   \n",
       "mean                           15354.868000    0.554000   \n",
       "min                              514.000000    0.000000   \n",
       "25%                             7724.250000    0.000000   \n",
       "50%                            15383.000000    1.000000   \n",
       "75%                            22798.750000    1.000000   \n",
       "max                            29931.000000    1.000000   \n",
       "std                             8602.642997    0.497573   \n",
       "\n",
       "                         incidentDate  \n",
       "count                             500  \n",
       "unique                            NaN  \n",
       "top                               NaN  \n",
       "freq                              NaN  \n",
       "mean    2020-12-18 05:42:43.199999744  \n",
       "min               2013-01-29 00:00:00  \n",
       "25%               2017-11-27 00:00:00  \n",
       "50%               2021-05-19 12:00:00  \n",
       "75%               2023-10-17 00:00:00  \n",
       "max               2027-12-13 00:00:00  \n",
       "std                               NaN  "
      ]
     },
     "execution_count": 10,
     "metadata": {},
     "output_type": "execute_result"
    }
   ],
   "source": [
    "#previewing both numerical and categorical statistics\n",
    "\n",
    "data.describe(include=\"all\")"
   ]
  },
  {
   "cell_type": "markdown",
   "id": "41ef3d9d",
   "metadata": {},
   "source": [
    "## 3. Data Visualization"
   ]
  },
  {
   "cell_type": "code",
   "execution_count": 11,
   "id": "63353455",
   "metadata": {},
   "outputs": [
    {
     "data": {
      "text/plain": [
       "<Axes: >"
      ]
     },
     "execution_count": 11,
     "metadata": {},
     "output_type": "execute_result"
    },
    {
     "data": {
      "image/png": "[encoded data removed]",
      "text/plain": [
       "<Figure size 640x480 with 1 Axes>"
      ]
     },
     "metadata": {},
     "output_type": "display_data"
    }
   ],
   "source": [
    "#Checking for missing values in our data\n",
    "\n",
    "sns.heatmap(data.isnull(),yticklabels=False,cbar=False,cmap='viridis')"
   ]
  },
  {
   "cell_type": "markdown",
   "id": "0341c43c",
   "metadata": {},
   "source": [
    "#### fraud_reported"
   ]
  },
  {
   "cell_type": "code",
   "execution_count": 20,
   "id": "6df7df28",
   "metadata": {
    "scrolled": true
   },
   "outputs": [
    {
     "data": {
      "text/plain": [
       "<Axes: xlabel='fraud_reported', ylabel='count'>"
      ]
     },
     "execution_count": 20,
     "metadata": {},
     "output_type": "execute_result"
    },
    {
     "data": {
      "image/png": "[encoded data removed]",
      "text/plain": [
       "<Figure size 640x480 with 1 Axes>"
      ]
     },
     "metadata": {},
     "output_type": "display_data"
    }
   ],
   "source": [
    "sns.countplot(data=data,x='fraud_reported')"
   ]
  },
  {
   "cell_type": "markdown",
   "id": "fb7e3a6f",
   "metadata": {},
   "source": [
    "#### claim_type"
   ]
  },
  {
   "cell_type": "code",
   "execution_count": 21,
   "id": "02df4fc6",
   "metadata": {},
   "outputs": [
    {
     "data": {
      "text/plain": [
       "<Axes: xlabel='claim_type', ylabel='count'>"
      ]
     },
     "execution_count": 21,
     "metadata": {},
     "output_type": "execute_result"
    },
    {
     "data": {
      "image/png": "[encoded data removed]",
      "text/plain": [
       "<Figure size 640x480 with 1 Axes>"
      ]
     },
     "metadata": {},
     "output_type": "display_data"
    }
   ],
   "source": [
    "sns.countplot(data=data,x='claim_type')"
   ]
  },
  {
   "cell_type": "markdown",
   "id": "be877bfa",
   "metadata": {},
   "source": [
    "#### insured_sex"
   ]
  },
  {
   "cell_type": "code",
   "execution_count": 24,
   "id": "5aa3333c",
   "metadata": {},
   "outputs": [
    {
     "data": {
      "text/plain": [
       "<Axes: xlabel='insured_sex', ylabel='count'>"
      ]
     },
     "execution_count": 24,
     "metadata": {},
     "output_type": "execute_result"
    },
    {
     "data": {
      "image/png": "[encoded data removed]",
      "text/plain": [
       "<Figure size 640x480 with 1 Axes>"
      ]
     },
     "metadata": {},
     "output_type": "display_data"
    }
   ],
   "source": [
    "sns.countplot(data=data,x='insured_sex')"
   ]
  },
  {
   "cell_type": "markdown",
   "id": "92ba843d",
   "metadata": {},
   "source": [
    "#### insured_education_level"
   ]
  },
  {
   "cell_type": "code",
   "execution_count": 25,
   "id": "3191db42",
   "metadata": {},
   "outputs": [
    {
     "data": {
      "text/plain": [
       "<Axes: xlabel='insured_education_level', ylabel='count'>"
      ]
     },
     "execution_count": 25,
     "metadata": {},
     "output_type": "execute_result"
    },
    {
     "data": {
      "image/png": "[encoded data removed]",
      "text/plain": [
       "<Figure size 640x480 with 1 Axes>"
      ]
     },
     "metadata": {},
     "output_type": "display_data"
    }
   ],
   "source": [
    "sns.countplot(data=data,x='insured_education_level')"
   ]
  },
  {
   "cell_type": "markdown",
   "id": "99009d40",
   "metadata": {},
   "source": [
    "## 4.Data Preproccessing and Feature Engineering"
   ]
  },
  {
   "cell_type": "code",
   "execution_count": 13,
   "id": "f3f4aa86",
   "metadata": {},
   "outputs": [],
   "source": [
    "#Rename fraud_reported to target\n",
    "\n",
    "data.rename(columns = {'fraud_reported':'target' }, inplace=True)"
   ]
  },
  {
   "cell_type": "code",
   "execution_count": 14,
   "id": "96e00fbf-a298-465b-946b-aac7c2c7aef5",
   "metadata": {},
   "outputs": [],
   "source": [
    "df = data"
   ]
  },
  {
   "cell_type": "markdown",
   "id": "8bc61379-ab42-4e5e-81cd-d8d80342f506",
   "metadata": {},
   "source": [
    "### Handling datetime"
   ]
  },
  {
   "cell_type": "code",
   "execution_count": 15,
   "id": "f66d0450-c8ef-4276-9499-62e62ff7d7ca",
   "metadata": {},
   "outputs": [],
   "source": [
    "\n",
    "# First, make sure the columns are datetime\n",
    "df['policy_bind_date'] = pd.to_datetime(df['policy_bind_date'])\n",
    "df['incidentDate'] = pd.to_datetime(df['incidentDate'])\n",
    "\n",
    "# Policy Bind Date Features\n",
    "df['policy_bind_year'] = df['policy_bind_date'].dt.year\n",
    "df['policy_bind_month'] = df['policy_bind_date'].dt.month\n",
    "df['policy_bind_day'] = df['policy_bind_date'].dt.day\n",
    "df['policy_bind_dayofweek'] = df['policy_bind_date'].dt.dayofweek\n",
    "df['policy_bind_is_weekend'] = df['policy_bind_dayofweek'] >= 5\n",
    "df['policy_bind_quarter'] = df['policy_bind_date'].dt.quarter\n",
    "\n",
    "# Incident Date Features\n",
    "df['incident_year'] = df['incidentDate'].dt.year\n",
    "df['incident_month'] = df['incidentDate'].dt.month\n",
    "df['incident_day'] = df['incidentDate'].dt.day\n",
    "df['incident_dayofweek'] = df['incidentDate'].dt.dayofweek\n",
    "df['incident_is_weekend'] = df['incident_dayofweek'] >= 5\n",
    "df['incident_quarter'] = df['incidentDate'].dt.quarter\n",
    "\n",
    "# Time Difference Feature (VERY important for fraud detection)\n",
    "df['days_between_policy_and_incident'] = (df['incidentDate'] - df['policy_bind_date']).dt.days\n",
    "\n",
    "# Remove datetime\n",
    "df = df.drop('policy_bind_date' , axis=1)\n",
    "df = df.drop('incidentDate' , axis=1)\n"
   ]
  },
  {
   "cell_type": "markdown",
   "id": "1bcc3142-3c9c-4027-b9ef-aa9bbd7c2aee",
   "metadata": {},
   "source": [
    "### Encoding categorical values to numerical values"
   ]
  },
  {
   "cell_type": "code",
   "execution_count": 16,
   "id": "615f82a2-1ff0-4d98-ae3f-865ef79a0654",
   "metadata": {},
   "outputs": [],
   "source": [
    "#Instantiation\n",
    "\n",
    "le=LabelEncoder()"
   ]
  },
  {
   "cell_type": "code",
   "execution_count": 17,
   "id": "f8afab0c-dbcb-46a4-b9f9-1371f7dca6cf",
   "metadata": {},
   "outputs": [],
   "source": [
    "df['target'] = le.fit_transform(df['target'])\n",
    "df['claim_type'] = le.fit_transform(df['claim_type'])\n",
    "df['insured_sex'] = le.fit_transform(df['insured_sex'])\n",
    "df['insured_education_level']  = le.fit_transform(df['insured_education_level'])\n",
    "df['incident_is_weekend']  = le.fit_transform(df['incident_is_weekend'])\n",
    "df['policy_bind_is_weekend']  = le.fit_transform(df['policy_bind_is_weekend'])"
   ]
  },
  {
   "cell_type": "markdown",
   "id": "e10cec2f",
   "metadata": {},
   "source": [
    "### Scale Features"
   ]
  },
  {
   "cell_type": "code",
   "execution_count": 20,
   "id": "da3a4d69",
   "metadata": {},
   "outputs": [],
   "source": [
    "# scaling the features\n",
    "\n",
    "class inputScaler( BaseEstimator, TransformerMixin):\n",
    "   \n",
    "    def __init__(self, feat_to_scale = ['months_as_customer','age','months_as_customer','time_difference','total_claim_amount','policy_annual_premium',\n",
    "                                        'umbrella_limit','vehicle_claim','time_since_policy_activation',\"claim_size_ratio\", \"claim_type_frequency\",\n",
    "                                       \"average_claim_amount_last_12_months\"]):\n",
    "        self.feat_to_scale = feat_to_scale\n",
    "        \n",
    "    def fit(self,data):\n",
    "        return self\n",
    "    \n",
    "    def transform(self, data):\n",
    "        if (set(self.feat_to_scale).issubset(data.columns)):\n",
    "            min_max_scaler = MinMaxScaler()\n",
    "            data[self.feat_to_scale] = min_max_scaler.fit_transform(data[self.feat_to_scale])\n",
    "            return data\n",
    "        else:\n",
    "            print(\"One or more features are not in the dataframe\")\n",
    "            return data\n",
    "            "
   ]
  },
  {
   "cell_type": "code",
   "execution_count": 21,
   "id": "5f01da36",
   "metadata": {},
   "outputs": [],
   "source": [
    "# calling the scaler transformer\n",
    "\n",
    "scaler = inputScaler()\n",
    "\n",
    "df = scaler.fit_transform(df)"
   ]
  },
  {
   "cell_type": "code",
   "execution_count": 22,
   "id": "0e656e56",
   "metadata": {},
   "outputs": [
    {
     "data": {
      "text/plain": [
       "(500, 30)"
      ]
     },
     "execution_count": 22,
     "metadata": {},
     "output_type": "execute_result"
    }
   ],
   "source": [
    "df.shape"
   ]
  },
  {
   "cell_type": "markdown",
   "id": "ed3401d2",
   "metadata": {},
   "source": [
    "### Defining predictor variables and target variable"
   ]
  },
  {
   "cell_type": "code",
   "execution_count": 23,
   "id": "a927c0f0",
   "metadata": {},
   "outputs": [],
   "source": [
    "#Dependent variable is also referred as target variable and the independent variables are called the predictors.\n",
    "\n",
    "X = df.drop('target',axis=1)\n",
    "y = df['target']"
   ]
  },
  {
   "cell_type": "markdown",
   "id": "4d9c9571",
   "metadata": {},
   "source": [
    "### Splitting data into train and test set"
   ]
  },
  {
   "cell_type": "code",
   "execution_count": 24,
   "id": "c206a34a",
   "metadata": {},
   "outputs": [],
   "source": [
    "X_train, X_test, y_train, y_test = train_test_split(X, y, test_size=0.33,random_state=42,shuffle=True)"
   ]
  },
  {
   "cell_type": "code",
   "execution_count": 25,
   "id": "3f9a5b01",
   "metadata": {},
   "outputs": [],
   "source": [
    "model = RandomForestClassifier(n_estimators=300) "
   ]
  },
  {
   "cell_type": "code",
   "execution_count": 26,
   "id": "7759e657",
   "metadata": {
    "scrolled": true
   },
   "outputs": [
    {
     "data": {
      "text/html": [
       "<style>#sk-container-id-1 {color: black;background-color: white;}#sk-container-id-1 pre{padding: 0;}#sk-container-id-1 div.sk-toggleable {background-color: white;}#sk-container-id-1 label.sk-toggleable__label {cursor: pointer;display: block;width: 100%;margin-bottom: 0;padding: 0.3em;box-sizing: border-box;text-align: center;}#sk-container-id-1 label.sk-toggleable__label-arrow:before {content: \"▸\";float: left;margin-right: 0.25em;color: #696969;}#sk-container-id-1 label.sk-toggleable__label-arrow:hover:before {color: black;}#sk-container-id-1 div.sk-estimator:hover label.sk-toggleable__label-arrow:before {color: black;}#sk-container-id-1 div.sk-toggleable__content {max-height: 0;max-width: 0;overflow: hidden;text-align: left;background-color: #f0f8ff;}#sk-container-id-1 div.sk-toggleable__content pre {margin: 0.2em;color: black;border-radius: 0.25em;background-color: #f0f8ff;}#sk-container-id-1 input.sk-toggleable__control:checked~div.sk-toggleable__content {max-height: 200px;max-width: 100%;overflow: auto;}#sk-container-id-1 input.sk-toggleable__control:checked~label.sk-toggleable__label-arrow:before {content: \"▾\";}#sk-container-id-1 div.sk-estimator input.sk-toggleable__control:checked~label.sk-toggleable__label {background-color: #d4ebff;}#sk-container-id-1 div.sk-label input.sk-toggleable__control:checked~label.sk-toggleable__label {background-color: #d4ebff;}#sk-container-id-1 input.sk-hidden--visually {border: 0;clip: rect(1px 1px 1px 1px);clip: rect(1px, 1px, 1px, 1px);height: 1px;margin: -1px;overflow: hidden;padding: 0;position: absolute;width: 1px;}#sk-container-id-1 div.sk-estimator {font-family: monospace;background-color: #f0f8ff;border: 1px dotted black;border-radius: 0.25em;box-sizing: border-box;margin-bottom: 0.5em;}#sk-container-id-1 div.sk-estimator:hover {background-color: #d4ebff;}#sk-container-id-1 div.sk-parallel-item::after {content: \"\";width: 100%;border-bottom: 1px solid gray;flex-grow: 1;}#sk-container-id-1 div.sk-label:hover label.sk-toggleable__label {background-color: #d4ebff;}#sk-container-id-1 div.sk-serial::before {content: \"\";position: absolute;border-left: 1px solid gray;box-sizing: border-box;top: 0;bottom: 0;left: 50%;z-index: 0;}#sk-container-id-1 div.sk-serial {display: flex;flex-direction: column;align-items: center;background-color: white;padding-right: 0.2em;padding-left: 0.2em;position: relative;}#sk-container-id-1 div.sk-item {position: relative;z-index: 1;}#sk-container-id-1 div.sk-parallel {display: flex;align-items: stretch;justify-content: center;background-color: white;position: relative;}#sk-container-id-1 div.sk-item::before, #sk-container-id-1 div.sk-parallel-item::before {content: \"\";position: absolute;border-left: 1px solid gray;box-sizing: border-box;top: 0;bottom: 0;left: 50%;z-index: -1;}#sk-container-id-1 div.sk-parallel-item {display: flex;flex-direction: column;z-index: 1;position: relative;background-color: white;}#sk-container-id-1 div.sk-parallel-item:first-child::after {align-self: flex-end;width: 50%;}#sk-container-id-1 div.sk-parallel-item:last-child::after {align-self: flex-start;width: 50%;}#sk-container-id-1 div.sk-parallel-item:only-child::after {width: 0;}#sk-container-id-1 div.sk-dashed-wrapped {border: 1px dashed gray;margin: 0 0.4em 0.5em 0.4em;box-sizing: border-box;padding-bottom: 0.4em;background-color: white;}#sk-container-id-1 div.sk-label label {font-family: monospace;font-weight: bold;display: inline-block;line-height: 1.2em;}#sk-container-id-1 div.sk-label-container {text-align: center;}#sk-container-id-1 div.sk-container {/* jupyter's `normalize.less` sets `[hidden] { display: none; }` but bootstrap.min.css set `[hidden] { display: none !important; }` so we also need the `!important` here to be able to override the default hidden behavior on the sphinx rendered scikit-learn.org. See: https://github.com/scikit-learn/scikit-learn/issues/21755 */display: inline-block !important;position: relative;}#sk-container-id-1 div.sk-text-repr-fallback {display: none;}</style><div id=\"sk-container-id-1\" class=\"sk-top-container\"><div class=\"sk-text-repr-fallback\"><pre>RandomForestClassifier(n_estimators=300)</pre><b>In a Jupyter environment, please rerun this cell to show the HTML representation or trust the notebook. <br />On GitHub, the HTML representation is unable to render, please try loading this page with nbviewer.org.</b></div><div class=\"sk-container\" hidden><div class=\"sk-item\"><div class=\"sk-estimator sk-toggleable\"><input class=\"sk-toggleable__control sk-hidden--visually\" id=\"sk-estimator-id-1\" type=\"checkbox\" checked><label for=\"sk-estimator-id-1\" class=\"sk-toggleable__label sk-toggleable__label-arrow\">RandomForestClassifier</label><div class=\"sk-toggleable__content\"><pre>RandomForestClassifier(n_estimators=300)</pre></div></div></div></div></div>"
      ],
      "text/plain": [
       "RandomForestClassifier(n_estimators=300)"
      ]
     },
     "execution_count": 26,
     "metadata": {},
     "output_type": "execute_result"
    }
   ],
   "source": [
    "model.fit(X_train,y_train)"
   ]
  },
  {
   "cell_type": "code",
   "execution_count": 27,
   "id": "3686121b",
   "metadata": {},
   "outputs": [],
   "source": [
    "predictions = model.predict(X_test)"
   ]
  },
  {
   "cell_type": "markdown",
   "id": "7a20196c",
   "metadata": {},
   "source": [
    "## 5.Evaluation"
   ]
  },
  {
   "cell_type": "code",
   "execution_count": 28,
   "id": "c1ffdf3d",
   "metadata": {},
   "outputs": [
    {
     "name": "stdout",
     "output_type": "stream",
     "text": [
      "[[ 6 65]\n",
      " [ 7 87]]\n",
      "\n",
      "\n",
      "              precision    recall  f1-score   support\n",
      "\n",
      "           0       0.46      0.08      0.14        71\n",
      "           1       0.57      0.93      0.71        94\n",
      "\n",
      "    accuracy                           0.56       165\n",
      "   macro avg       0.52      0.51      0.43       165\n",
      "weighted avg       0.52      0.56      0.46       165\n",
      "\n"
     ]
    }
   ],
   "source": [
    "print(confusion_matrix(y_test,predictions))\n",
    "print('\\n')\n",
    "print(classification_report(y_test,predictions))"
   ]
  },
  {
   "cell_type": "code",
   "execution_count": 29,
   "id": "a8e84896",
   "metadata": {},
   "outputs": [
    {
     "data": {
      "text/plain": [
       "<sklearn.metrics._plot.confusion_matrix.ConfusionMatrixDisplay at 0x1c3541e71c0>"
      ]
     },
     "execution_count": 29,
     "metadata": {},
     "output_type": "execute_result"
    },
    {
     "data": {
      "image/png": "[encoded data removed]",
      "text/plain": [
       "<Figure size 640x480 with 2 Axes>"
      ]
     },
     "metadata": {},
     "output_type": "display_data"
    }
   ],
   "source": [
    "plot_confusion_matrix(model, X_test,y_test)"
   ]
  },
  {
   "cell_type": "code",
   "execution_count": 30,
   "id": "ed306af0",
   "metadata": {},
   "outputs": [
    {
     "data": {
      "text/plain": [
       "0.5636363636363636"
      ]
     },
     "execution_count": 30,
     "metadata": {},
     "output_type": "execute_result"
    }
   ],
   "source": [
    "model.score(X_test, y_test)"
   ]
  },
  {
   "cell_type": "markdown",
   "id": "f1beb0b4",
   "metadata": {},
   "source": [
    "## 6.Deploying"
   ]
  },
  {
   "cell_type": "code",
   "execution_count": 31,
   "id": "d1babd6d",
   "metadata": {},
   "outputs": [],
   "source": [
    "# saving model\n",
    "\n",
    "filename = 'claims_final.sav'\n",
    "pickle.dump(model,open(filename,'wb'))"
   ]
  },
  {
   "cell_type": "code",
   "execution_count": 32,
   "id": "6e77f259",
   "metadata": {},
   "outputs": [],
   "source": [
    "#Loading model\n",
    "\n",
    "loaded_model = pickle.load(open(filename, 'rb'))\n"
   ]
  },
  {
   "cell_type": "code",
   "execution_count": 33,
   "id": "b90e040b",
   "metadata": {},
   "outputs": [
    {
     "data": {
      "text/html": [
       "<div>\n",
       "<style scoped>\n",
       "    .dataframe tbody tr th:only-of-type {\n",
       "        vertical-align: middle;\n",
       "    }\n",
       "\n",
       "    .dataframe tbody tr th {\n",
       "        vertical-align: top;\n",
       "    }\n",
       "\n",
       "    .dataframe thead th {\n",
       "        text-align: right;\n",
       "    }\n",
       "</style>\n",
       "<table border=\"1\" class=\"dataframe\">\n",
       "  <thead>\n",
       "    <tr style=\"text-align: right;\">\n",
       "      <th></th>\n",
       "      <th>months_as_customer</th>\n",
       "      <th>age</th>\n",
       "      <th>time_difference</th>\n",
       "      <th>target</th>\n",
       "      <th>claim_type</th>\n",
       "      <th>total_claim_amount</th>\n",
       "      <th>insured_sex</th>\n",
       "      <th>insured_education_level</th>\n",
       "      <th>policy_annual_premium</th>\n",
       "      <th>umbrella_limit</th>\n",
       "      <th>...</th>\n",
       "      <th>policy_bind_dayofweek</th>\n",
       "      <th>policy_bind_is_weekend</th>\n",
       "      <th>policy_bind_quarter</th>\n",
       "      <th>incident_year</th>\n",
       "      <th>incident_month</th>\n",
       "      <th>incident_day</th>\n",
       "      <th>incident_dayofweek</th>\n",
       "      <th>incident_is_weekend</th>\n",
       "      <th>incident_quarter</th>\n",
       "      <th>days_between_policy_and_incident</th>\n",
       "    </tr>\n",
       "  </thead>\n",
       "  <tbody>\n",
       "    <tr>\n",
       "      <th>207</th>\n",
       "      <td>0.768519</td>\n",
       "      <td>0.774194</td>\n",
       "      <td>0.983051</td>\n",
       "      <td>1</td>\n",
       "      <td>0</td>\n",
       "      <td>0.45515</td>\n",
       "      <td>0</td>\n",
       "      <td>0</td>\n",
       "      <td>0.084353</td>\n",
       "      <td>0.651954</td>\n",
       "      <td>...</td>\n",
       "      <td>5</td>\n",
       "      <td>1</td>\n",
       "      <td>3</td>\n",
       "      <td>2020</td>\n",
       "      <td>2</td>\n",
       "      <td>18</td>\n",
       "      <td>1</td>\n",
       "      <td>0</td>\n",
       "      <td>1</td>\n",
       "      <td>878</td>\n",
       "    </tr>\n",
       "  </tbody>\n",
       "</table>\n",
       "<p>1 rows × 30 columns</p>\n",
       "</div>"
      ],
      "text/plain": [
       "     months_as_customer       age  time_difference  target  claim_type  \\\n",
       "207            0.768519  0.774194         0.983051       1           0   \n",
       "\n",
       "     total_claim_amount  insured_sex  insured_education_level  \\\n",
       "207             0.45515            0                        0   \n",
       "\n",
       "     policy_annual_premium  umbrella_limit  ...  policy_bind_dayofweek  \\\n",
       "207               0.084353        0.651954  ...                      5   \n",
       "\n",
       "     policy_bind_is_weekend  policy_bind_quarter  incident_year  \\\n",
       "207                       1                    3           2020   \n",
       "\n",
       "     incident_month  incident_day  incident_dayofweek  incident_is_weekend  \\\n",
       "207               2            18                   1                    0   \n",
       "\n",
       "     incident_quarter  days_between_policy_and_incident  \n",
       "207                 1                               878  \n",
       "\n",
       "[1 rows x 30 columns]"
      ]
     },
     "execution_count": 33,
     "metadata": {},
     "output_type": "execute_result"
    }
   ],
   "source": [
    "sample = df.sample()\n",
    "\n",
    "sample\n"
   ]
  },
  {
   "cell_type": "code",
   "execution_count": 34,
   "id": "72380368",
   "metadata": {},
   "outputs": [],
   "source": [
    "#storing prediction in result variable\n",
    "\n",
    "result = loaded_model.predict(sample.drop('target', axis = 1))\n",
    "\n"
   ]
  },
  {
   "cell_type": "code",
   "execution_count": 35,
   "id": "19c03d9a",
   "metadata": {
    "scrolled": true
   },
   "outputs": [
    {
     "data": {
      "text/plain": [
       "1"
      ]
     },
     "execution_count": 35,
     "metadata": {},
     "output_type": "execute_result"
    }
   ],
   "source": [
    "# 0 No\n",
    "# 1 yes \n",
    "\n",
    "result[0]"
   ]
  },
  {
   "cell_type": "code",
   "execution_count": 36,
   "id": "8abcf917-9d63-442c-b7e0-058ba41ed062",
   "metadata": {},
   "outputs": [
    {
     "name": "stdout",
     "output_type": "stream",
     "text": [
      "<class 'pandas.core.frame.DataFrame'>\n",
      "RangeIndex: 500 entries, 0 to 499\n",
      "Data columns (total 30 columns):\n",
      " #   Column                               Non-Null Count  Dtype  \n",
      "---  ------                               --------------  -----  \n",
      " 0   months_as_customer                   500 non-null    float64\n",
      " 1   age                                  500 non-null    float64\n",
      " 2   time_difference                      500 non-null    float64\n",
      " 3   target                               500 non-null    int32  \n",
      " 4   claim_type                           500 non-null    int32  \n",
      " 5   total_claim_amount                   500 non-null    float64\n",
      " 6   insured_sex                          500 non-null    int32  \n",
      " 7   insured_education_level              500 non-null    int32  \n",
      " 8   policy_annual_premium                500 non-null    float64\n",
      " 9   umbrella_limit                       500 non-null    float64\n",
      " 10  vehicle_claim                        500 non-null    float64\n",
      " 11  time_since_policy_activation         500 non-null    float64\n",
      " 12  claim_frequency                      500 non-null    int64  \n",
      " 13  claim_size_ratio                     500 non-null    float64\n",
      " 14  claim_type_frequency                 500 non-null    float64\n",
      " 15  average_claim_amount_last_12_months  500 non-null    float64\n",
      " 16  claim_flag                           500 non-null    int64  \n",
      " 17  policy_bind_year                     500 non-null    int32  \n",
      " 18  policy_bind_month                    500 non-null    int32  \n",
      " 19  policy_bind_day                      500 non-null    int32  \n",
      " 20  policy_bind_dayofweek                500 non-null    int32  \n",
      " 21  policy_bind_is_weekend               500 non-null    int64  \n",
      " 22  policy_bind_quarter                  500 non-null    int32  \n",
      " 23  incident_year                        500 non-null    int32  \n",
      " 24  incident_month                       500 non-null    int32  \n",
      " 25  incident_day                         500 non-null    int32  \n",
      " 26  incident_dayofweek                   500 non-null    int32  \n",
      " 27  incident_is_weekend                  500 non-null    int64  \n",
      " 28  incident_quarter                     500 non-null    int32  \n",
      " 29  days_between_policy_and_incident     500 non-null    int64  \n",
      "dtypes: float64(11), int32(14), int64(5)\n",
      "memory usage: 90.0 KB\n"
     ]
    }
   ],
   "source": [
    "df.info()"
   ]
  },
  {
   "cell_type": "code",
   "execution_count": 37,
   "id": "2acc95ee",
   "metadata": {},
   "outputs": [
    {
     "data": {
      "text/plain": [
       "Index(['months_as_customer', 'age', 'time_difference', 'target', 'claim_type',\n",
       "       'total_claim_amount', 'insured_sex', 'insured_education_level',\n",
       "       'policy_annual_premium', 'umbrella_limit', 'vehicle_claim',\n",
       "       'time_since_policy_activation', 'claim_frequency', 'claim_size_ratio',\n",
       "       'claim_type_frequency', 'average_claim_amount_last_12_months',\n",
       "       'claim_flag', 'policy_bind_year', 'policy_bind_month',\n",
       "       'policy_bind_day', 'policy_bind_dayofweek', 'policy_bind_is_weekend',\n",
       "       'policy_bind_quarter', 'incident_year', 'incident_month',\n",
       "       'incident_day', 'incident_dayofweek', 'incident_is_weekend',\n",
       "       'incident_quarter', 'days_between_policy_and_incident'],\n",
       "      dtype='object')"
      ]
     },
     "execution_count": 37,
     "metadata": {},
     "output_type": "execute_result"
    }
   ],
   "source": [
    "df.columns"
   ]
  },
  {
   "cell_type": "code",
   "execution_count": null,
   "id": "878ff45b-5799-45a6-803f-5a6fc58d19e8",
   "metadata": {},
   "outputs": [],
   "source": []
  }
 ],
 "metadata": {
  "kernelspec": {
   "display_name": "Python 3 (ipykernel)",
   "language": "python",
   "name": "python3"
  },
  "language_info": {
   "codemirror_mode": {
    "name": "ipython",
    "version": 3
   },
   "file_extension": ".py",
   "mimetype": "text/x-python",
   "name": "python",
   "nbconvert_exporter": "python",
   "pygments_lexer": "ipython3",
   "version": "3.10.7"
  }
 },
 "nbformat": 4,
 "nbformat_minor": 5
}
